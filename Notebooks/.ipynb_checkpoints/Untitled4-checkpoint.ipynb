{
 "cells": [
  {
   "cell_type": "code",
   "execution_count": 2,
   "metadata": {},
   "outputs": [
    {
     "name": "stdout",
     "output_type": "stream",
     "text": [
      "C:\\Users\\cgor\\Documents\\GitHub\\Ideal_Cat_Profile\n"
     ]
    }
   ],
   "source": [
    "%cd ..\n",
    "import app as app"
   ]
  },
  {
   "cell_type": "code",
   "execution_count": null,
   "metadata": {
    "scrolled": true
   },
   "outputs": [
    {
     "name": "stderr",
     "output_type": "stream",
     "text": [
      "C:\\Users\\cgor\\Anaconda3\\envs\\Ideal_Cat_Profile\\lib\\site-packages\\tensorflow\\python\\framework\\dtypes.py:493: FutureWarning: Passing (type, 1) or '1type' as a synonym of type is deprecated; in a future version of numpy, it will be understood as (type, (1,)) / '(1,)type'.\n",
      "  _np_qint8 = np.dtype([(\"qint8\", np.int8, 1)])\n",
      "C:\\Users\\cgor\\Anaconda3\\envs\\Ideal_Cat_Profile\\lib\\site-packages\\tensorflow\\python\\framework\\dtypes.py:494: FutureWarning: Passing (type, 1) or '1type' as a synonym of type is deprecated; in a future version of numpy, it will be understood as (type, (1,)) / '(1,)type'.\n",
      "  _np_quint8 = np.dtype([(\"quint8\", np.uint8, 1)])\n",
      "C:\\Users\\cgor\\Anaconda3\\envs\\Ideal_Cat_Profile\\lib\\site-packages\\tensorflow\\python\\framework\\dtypes.py:495: FutureWarning: Passing (type, 1) or '1type' as a synonym of type is deprecated; in a future version of numpy, it will be understood as (type, (1,)) / '(1,)type'.\n",
      "  _np_qint16 = np.dtype([(\"qint16\", np.int16, 1)])\n",
      "C:\\Users\\cgor\\Anaconda3\\envs\\Ideal_Cat_Profile\\lib\\site-packages\\tensorflow\\python\\framework\\dtypes.py:496: FutureWarning: Passing (type, 1) or '1type' as a synonym of type is deprecated; in a future version of numpy, it will be understood as (type, (1,)) / '(1,)type'.\n",
      "  _np_quint16 = np.dtype([(\"quint16\", np.uint16, 1)])\n",
      "C:\\Users\\cgor\\Anaconda3\\envs\\Ideal_Cat_Profile\\lib\\site-packages\\tensorflow\\python\\framework\\dtypes.py:497: FutureWarning: Passing (type, 1) or '1type' as a synonym of type is deprecated; in a future version of numpy, it will be understood as (type, (1,)) / '(1,)type'.\n",
      "  _np_qint32 = np.dtype([(\"qint32\", np.int32, 1)])\n",
      "C:\\Users\\cgor\\Anaconda3\\envs\\Ideal_Cat_Profile\\lib\\site-packages\\tensorflow\\python\\framework\\dtypes.py:502: FutureWarning: Passing (type, 1) or '1type' as a synonym of type is deprecated; in a future version of numpy, it will be understood as (type, (1,)) / '(1,)type'.\n",
      "  np_resource = np.dtype([(\"resource\", np.ubyte, 1)])\n",
      "Using TensorFlow backend.\n"
     ]
    },
    {
     "name": "stdout",
     "output_type": "stream",
     "text": [
      "(500, 500, 3)\n",
      "(403, 500, 3)\n",
      "(417, 500, 3)\n",
      "(499, 500, 3)\n",
      "(594, 515, 3)\n",
      "(347, 500, 3)\n",
      "(582, 500, 3)\n",
      "(598, 500, 3)\n",
      "(542, 500, 3)\n",
      "(333, 500, 3)\n",
      "(666, 500, 3)\n",
      "(333, 500, 3)\n",
      "(358, 500, 3)\n",
      "(333, 500, 3)\n",
      "(486, 500, 3)\n",
      "(333, 500, 3)\n",
      "(380, 500, 3)\n",
      "(752, 500, 3)\n",
      "(426, 500, 3)\n",
      "(402, 500, 3)\n",
      "(333, 500, 3)\n",
      "(281, 500, 3)\n",
      "(752, 500, 3)\n",
      "(529, 500, 3)\n",
      "(604, 500, 3)\n",
      "(333, 500, 3)\n",
      "(375, 500, 3)\n",
      "(666, 500, 3)\n",
      "(333, 500, 3)\n",
      "(333, 500, 3)\n",
      "(333, 500, 3)\n",
      "(666, 500, 3)\n",
      "(350, 500, 3)\n",
      "(333, 500, 3)\n",
      "(748, 500, 3)\n",
      "(426, 500, 3)\n",
      "(666, 500, 3)\n",
      "(666, 500, 3)\n",
      "(375, 500, 3)\n",
      "(518, 500, 3)\n",
      "(704, 500, 3)\n",
      "(330, 500, 3)\n",
      "(333, 500, 3)\n",
      "(333, 500, 3)\n",
      "(500, 500, 3)\n",
      "(524, 500, 3)\n",
      "(281, 500, 3)\n",
      "(400, 600, 3)\n"
     ]
    }
   ],
   "source": [
    "images = app.generate()"
   ]
  },
  {
   "cell_type": "code",
   "execution_count": null,
   "metadata": {},
   "outputs": [],
   "source": [
    "nt = []\n",
    "for image in images:\n",
    "    if image is not None:\n",
    "        tx = []\n",
    "        ty = []\n",
    "\n",
    "        for x,y in image.curve:\n",
    "            tx.append(x)\n",
    "            ty.append(y)\n",
    "        prs = pearsonr(tx, ty)\n",
    "        print(prs)\n",
    "        \n",
    "        if abs(prs[0] - prs[1]) < 8.5e-1:\n",
    "            nt.append(0)\n",
    "        else:\n",
    "            nt.append(1)\n",
    "\n",
    "print(nt)"
   ]
  },
  {
   "cell_type": "code",
   "execution_count": null,
   "metadata": {},
   "outputs": [],
   "source": [
    "%matplotlib inline\n",
    "#The line above is necesary to show Matplotlib's plots inside a Jupyter Notebook\n",
    "\n",
    "from matplotlib import pyplot as plt\n",
    "for image in images:\n",
    "    if image is not None:\n",
    "        x=[]\n",
    "        y=[]\n",
    "        for p in image.curve:\n",
    "            coords = p.tolist()\n",
    "            x.append(coords[0])\n",
    "            y.append(coords[1])\n",
    "        \n",
    "            \n",
    "        plt.scatter(x, y)\n",
    "        plt.show()\n",
    "        from scipy.stats import linregress, pearsonr\n",
    "        result = linregress(x, y)\n",
    "        r2 =  pearsonr(x,y)\n",
    "        from decimal import Decimal\n",
    "        if abs(r2[0] - r2[1]) < 8.5e-1:\n",
    "            print(\"class 1\")\n",
    "        else:\n",
    "            print(\"class 0\")\n",
    "        print(abs(r2[0] - r2[1]))\n",
    "            "
   ]
  },
  {
   "cell_type": "code",
   "execution_count": null,
   "metadata": {},
   "outputs": [],
   "source": [
    "def norm(profile):\n",
    "    if np.unique(profile).shape[0] == 1:\n",
    "        pass  # do thing if the input_array is constant\n",
    "    else:\n",
    "        result_array = (profile - np.min(profile)) / np.ptp(profile)\n",
    "        return result_array\n",
    "\n",
    "coefs = []\n",
    "for image in images:\n",
    "    if image is not None:\n",
    "        for coef in image.coef:\n",
    "            coefs.append(norm(coef))\n",
    "\n",
    "d =np.asarray(coefs)\n",
    "print(d)\n",
    "np.savetxt('tesssst.txt', d)"
   ]
  },
  {
   "cell_type": "code",
   "execution_count": null,
   "metadata": {},
   "outputs": [],
   "source": [
    "%matplotlib inline\n",
    "from src.profile_classifier.svm import fit_svm\n",
    "fit_svm(d)"
   ]
  }
 ],
 "metadata": {
  "kernelspec": {
   "display_name": "Python [conda env:Anaconda3-Ideal_Cat_Profile] *",
   "language": "python",
   "name": "conda-env-Anaconda3-Ideal_Cat_Profile-py"
  },
  "language_info": {
   "codemirror_mode": {
    "name": "ipython",
    "version": 3
   },
   "file_extension": ".py",
   "mimetype": "text/x-python",
   "name": "python",
   "nbconvert_exporter": "python",
   "pygments_lexer": "ipython3",
   "version": "3.6.10"
  }
 },
 "nbformat": 4,
 "nbformat_minor": 4
}
