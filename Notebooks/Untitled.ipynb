{
 "cells": [
  {
   "cell_type": "code",
   "execution_count": 12,
   "metadata": {},
   "outputs": [],
   "source": [
    "#Import scikit-learn dataset library\n",
    "from sklearn import datasets\n",
    "\n",
    "#Load dataset\n",
    "cancer = datasets.load_breast_cancer()"
   ]
  },
  {
   "cell_type": "code",
   "execution_count": 13,
   "metadata": {},
   "outputs": [
    {
     "name": "stdout",
     "output_type": "stream",
     "text": [
      "Features:  ['mean radius' 'mean texture' 'mean perimeter' 'mean area'\n",
      " 'mean smoothness' 'mean compactness' 'mean concavity'\n",
      " 'mean concave points' 'mean symmetry' 'mean fractal dimension'\n",
      " 'radius error' 'texture error' 'perimeter error' 'area error'\n",
      " 'smoothness error' 'compactness error' 'concavity error'\n",
      " 'concave points error' 'symmetry error' 'fractal dimension error'\n",
      " 'worst radius' 'worst texture' 'worst perimeter' 'worst area'\n",
      " 'worst smoothness' 'worst compactness' 'worst concavity'\n",
      " 'worst concave points' 'worst symmetry' 'worst fractal dimension']\n",
      "Labels:  ['malignant' 'benign']\n"
     ]
    }
   ],
   "source": [
    "# print the names of the 13 features\n",
    "print(\"Features: \", cancer.feature_names)\n",
    "\n",
    "# print the label type of cancer('malignant' 'benign')\n",
    "print(\"Labels: \", cancer.target_names)"
   ]
  },
  {
   "cell_type": "code",
   "execution_count": 95,
   "metadata": {},
   "outputs": [
    {
     "name": "stdout",
     "output_type": "stream",
     "text": [
      "[0.01641181 1.         0.         0.01654354 0.0164113  0.01641181] 1\n",
      "[0.01040749 1.         0.         0.01045824 0.01040738 0.01040749] 1\n",
      "[0.01286201 1.         0.         0.01294046 0.01286178 0.01286201] 1\n",
      "[0.00523526 1.         0.         0.0052497  0.00523524 0.00523526] 1\n",
      "[0.00514016 1.         0.         0.00515043 0.00514015 0.00514016] 1\n",
      "[0.98237287 0.         1.         0.98221688 0.98237355 0.98237287] 0\n",
      "[0.00830975 1.         0.         0.00834316 0.00830969 0.00830975] 1\n",
      "[0.99607814 0.         1.         0.9960707  0.99607815 0.99607814] 0\n",
      "[0.00739276 1.         0.         0.00741469 0.00739275 0.00739276] 1\n",
      "[0.98949054 0.97873057 0.         1.         0.98944866 0.9894906 ] 0\n",
      "[0.98675217 0.         1.         0.98666873 0.98675242 0.98675217] 0\n",
      "[0.98737692 0.         1.         0.98729997 0.98737715 0.98737692] 0\n",
      "[0.98537774 0.         1.         0.98527964 0.98537805 0.98537774] 0\n",
      "[0.98394707 0.         1.         0.98381864 0.98394758 0.98394707] 0\n",
      "[0.97958586 0.         1.         0.97939912 0.97958665 0.97958586] 0\n",
      "[0.9866963  0.         1.         0.98660951 0.98669658 0.9866963 ] 0\n",
      "[0.98505911 0.         1.         0.98495291 0.98505947 0.98505911] 0\n",
      "[0.02234755 1.         0.         0.02258268 0.02234637 0.02234755] 1\n",
      "[0.99269875 0.         1.         0.99267293 0.99269879 0.99269875] 0\n",
      "[0.98135678 0.         1.         0.98118164 0.98135759 0.98135677] 0\n",
      "[0.00543626 0.0110457  1.         0.         0.0054474  0.00543625] 1\n",
      "[0.9863118  0.         1.         0.9862211  0.98631209 0.9863118 ] 0\n",
      "[0.98858282 0.         1.         0.9885202  0.98858298 0.98858282] 0\n",
      "[0.03133172 1.         0.         0.03169477 0.03132988 0.03133172] 1\n",
      "[0.02331005 1.         0.         0.02356904 0.02330869 0.02331006] 1\n",
      "[0.98964886 0.         1.         0.98959719 0.98964899 0.98964886] 0\n",
      "[0.02177059 1.         0.         0.02199053 0.02176955 0.0217706 ] 1\n",
      "[0.0181619  1.         0.         0.01829907 0.01816143 0.0181619 ] 1\n",
      "[0.02341314 1.         0.         0.02363954 0.02341215 0.02341314] 1\n",
      "[0.00738525 1.         0.         0.00741216 0.00738521 0.00738525] 1\n",
      "[0.01426547 1.         0.         0.01436086 0.01426517 0.01426547] 1\n",
      "[0.98382308 0.         1.         0.98369827 0.98382354 0.98382307] 0\n",
      "[0.00812803 1.         0.         0.00816038 0.00812796 0.00812803] 1\n",
      "[0.97719597 0.         1.         0.97698546 0.97719684 0.97719597] 0\n",
      "[0.98981983 0.         1.         0.9897678  0.98981996 0.98981983] 0\n",
      "[0.99471329 0.         1.         0.99470005 0.9947133  0.99471329] 0\n",
      "[0.0184024  1.         0.         0.0185606  0.01840175 0.0184024 ] 1\n",
      "[0.88393169 0.         1.         0.88245626 0.88393885 0.88393167] 0\n",
      "[0.98021154 0.         1.         0.9800256  0.98021237 0.98021154] 0\n",
      "[0.98392779 0.         1.         0.98379787 0.98392831 0.98392779] 0\n",
      "40 40\n",
      "(40,) (40, 6)\n"
     ]
    }
   ],
   "source": [
    "data = np.loadtxt(\"test.txt\", delimiter=\" \")\n",
    "ntarget = [0 if sum(val) >2 else 1 for val in data]\n",
    "mtarget = np.asarray(ntarget)\n",
    "\n",
    "for n in zip(data,mtarget):\n",
    "    print(n[0],n[1])\n",
    "\n",
    "print(len(mtarget), len(data))\n",
    "print(mtarget.shape, data.shape)"
   ]
  },
  {
   "cell_type": "code",
   "execution_count": 96,
   "metadata": {},
   "outputs": [],
   "source": [
    "# Import train_test_split function\n",
    "from sklearn.model_selection import train_test_split\n",
    "\n",
    "# Split dataset into training set and test set\n",
    "X_train, X_test, y_train, y_test = train_test_split(data, mtarget, test_size=.7,random_state=55) # 70% training and 30% test"
   ]
  },
  {
   "cell_type": "code",
   "execution_count": 97,
   "metadata": {},
   "outputs": [],
   "source": [
    "#Import svm model\n",
    "from sklearn import svm\n",
    "\n",
    "#Create a svm Classifier\n",
    "clf = svm.SVC(kernel='rbf') # Linear Kernel\n",
    "\n",
    "#Train the model using the training sets\n",
    "clf.fit(X_train, y_train)\n",
    "\n",
    "#Predict the response for test dataset\n",
    "y_pred = clf.predict(X_test)"
   ]
  },
  {
   "cell_type": "code",
   "execution_count": 98,
   "metadata": {},
   "outputs": [
    {
     "name": "stdout",
     "output_type": "stream",
     "text": [
      "Accuracy: 1.0\n"
     ]
    }
   ],
   "source": [
    "#Import scikit-learn metrics module for accuracy calculation\n",
    "from sklearn import metrics\n",
    "\n",
    "# Model Accuracy: how often is the classifier correct?\n",
    "print(\"Accuracy:\",metrics.accuracy_score(y_test, y_pred))"
   ]
  },
  {
   "cell_type": "code",
   "execution_count": 99,
   "metadata": {},
   "outputs": [
    {
     "name": "stdout",
     "output_type": "stream",
     "text": [
      "Precision: 1.0\n",
      "Recall: 1.0\n"
     ]
    }
   ],
   "source": [
    "# Model Precision: what percentage of positive tuples are labeled as such?\n",
    "print(\"Precision:\",metrics.precision_score(y_test, y_pred))\n",
    "\n",
    "# Model Recall: what percentage of positive tuples are labelled as such?\n",
    "print(\"Recall:\",metrics.recall_score(y_test, y_pred))"
   ]
  },
  {
   "cell_type": "code",
   "execution_count": 101,
   "metadata": {},
   "outputs": [
    {
     "name": "stdout",
     "output_type": "stream",
     "text": [
      "[[0.94675123 0.         1.         0.98531873 0.97675242 0.98675217]]\n",
      "[0]\n",
      "[[0.01040749 1.         0.         0.01045824 0.01040738 0.01040749]]\n",
      "[1]\n"
     ]
    }
   ],
   "source": [
    "a = np.array([0.94675123,0.,1.,0.98531873,0.97675242,0.98675217]).reshape(1, -1)\n",
    "print(a)\n",
    "print(clf.predict(a))\n",
    "\n",
    "b = data[1].reshape(1, -1)\n",
    "print(b)\n",
    "print(clf.predict(b))\n"
   ]
  },
  {
   "cell_type": "code",
   "execution_count": null,
   "metadata": {},
   "outputs": [],
   "source": []
  }
 ],
 "metadata": {
  "kernelspec": {
   "display_name": "Python [conda env:Anaconda3-Ideal_Cat_Profile] *",
   "language": "python",
   "name": "conda-env-Anaconda3-Ideal_Cat_Profile-py"
  },
  "language_info": {
   "codemirror_mode": {
    "name": "ipython",
    "version": 3
   },
   "file_extension": ".py",
   "mimetype": "text/x-python",
   "name": "python",
   "nbconvert_exporter": "python",
   "pygments_lexer": "ipython3",
   "version": "3.6.10"
  }
 },
 "nbformat": 4,
 "nbformat_minor": 4
}
