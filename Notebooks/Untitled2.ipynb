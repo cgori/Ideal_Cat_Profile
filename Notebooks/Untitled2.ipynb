{
 "cells": [
  {
   "cell_type": "code",
   "execution_count": 5,
   "metadata": {},
   "outputs": [
    {
     "data": {
      "text/plain": [
       "['C:\\\\Users\\\\cgor\\\\Anaconda3\\\\envs\\\\Ideal-Cat-Profile\\\\python36.zip',\n",
       " 'C:\\\\Users\\\\cgor\\\\Anaconda3\\\\envs\\\\Ideal-Cat-Profile\\\\DLLs',\n",
       " 'C:\\\\Users\\\\cgor\\\\Anaconda3\\\\envs\\\\Ideal-Cat-Profile\\\\lib',\n",
       " 'C:\\\\Users\\\\cgor\\\\Anaconda3\\\\envs\\\\Ideal-Cat-Profile',\n",
       " '',\n",
       " 'C:\\\\Users\\\\cgor\\\\AppData\\\\Roaming\\\\Python\\\\Python36\\\\site-packages',\n",
       " 'C:\\\\Users\\\\cgor\\\\Anaconda3\\\\envs\\\\Ideal-Cat-Profile\\\\lib\\\\site-packages',\n",
       " 'c:\\\\users\\\\cgor\\\\documents\\\\github\\\\mask_rcnn',\n",
       " 'C:\\\\Users\\\\cgor\\\\Anaconda3\\\\envs\\\\Ideal-Cat-Profile\\\\lib\\\\site-packages\\\\win32',\n",
       " 'C:\\\\Users\\\\cgor\\\\Anaconda3\\\\envs\\\\Ideal-Cat-Profile\\\\lib\\\\site-packages\\\\win32\\\\lib',\n",
       " 'C:\\\\Users\\\\cgor\\\\Anaconda3\\\\envs\\\\Ideal-Cat-Profile\\\\lib\\\\site-packages\\\\Pythonwin',\n",
       " 'C:\\\\Users\\\\cgor\\\\Anaconda3\\\\envs\\\\Ideal-Cat-Profile\\\\lib\\\\site-packages\\\\IPython\\\\extensions',\n",
       " 'C:\\\\Users\\\\cgor\\\\.ipython']"
      ]
     },
     "execution_count": 5,
     "metadata": {},
     "output_type": "execute_result"
    }
   ],
   "source": [
    "import os\n",
    "os.sys.path"
   ]
  },
  {
   "cell_type": "code",
   "execution_count": null,
   "metadata": {},
   "outputs": [],
   "source": []
  }
 ],
 "metadata": {
  "kernelspec": {
   "display_name": "Python [conda env:Anaconda3-Ideal-Cat-Profile]",
   "language": "python",
   "name": "conda-env-Anaconda3-Ideal-Cat-Profile-py"
  },
  "language_info": {
   "codemirror_mode": {
    "name": "ipython",
    "version": 3
   },
   "file_extension": ".py",
   "mimetype": "text/x-python",
   "name": "python",
   "nbconvert_exporter": "python",
   "pygments_lexer": "ipython3",
   "version": "3.6.10"
  }
 },
 "nbformat": 4,
 "nbformat_minor": 4
}
